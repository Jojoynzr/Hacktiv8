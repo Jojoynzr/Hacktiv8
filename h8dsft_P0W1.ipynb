{
  "nbformat": 4,
  "nbformat_minor": 0,
  "metadata": {
    "colab": {
      "name": "h8dsft_P0W1.ipynb",
      "provenance": [],
      "collapsed_sections": [
        "Is3oHAmsinCZ",
        "Ar7rAF6XpDlc",
        "D1OBTed2gDmi",
        "-knktUMQACfR",
        "XotdHSoybInx"
      ]
    },
    "kernelspec": {
      "name": "python3",
      "display_name": "Python 3"
    },
    "language_info": {
      "name": "python"
    }
  },
  "cells": [
    {
      "cell_type": "markdown",
      "metadata": {
        "id": "Is3oHAmsinCZ"
      },
      "source": [
        "#Intro\n",
        "\n",
        "Identity:\n",
        "Joshua Yunizar | FTDS Batch 005\n",
        "\n",
        "#About the Data\n",
        "\n",
        "This data set includes 721 Pokemon, including their number, name, first and second type, and basic stats: HP, Attack, Defense, Special Attack, Special Defense, and Speed. It has been of great use when teaching statistics to kids. With certain types you can also give a geeky introduction to machine learning.\n",
        "\n",
        "This are the raw attributes that are used for calculating how much damage an attack will do in the games. This dataset is about the pokemon games\n",
        "\n",
        "#Objective\n",
        "\n",
        "In this set of data, I will show top 10 pokemon which main element or type 1:\n",
        "\n",
        "1. Legendary pokemon with most Sp Atk.\n",
        "2. Non Legendary Pokemon with least Defense.\n",
        "3. Gen 2 Pokemon with Most Total.\n",
        "\n",
        "4. The set of data will also shows the pokemon which have the most and least Total, Sp. Atk, and Defense.\n",
        "\n",
        "5. And at the end, bar graphs will be shown, by comparing the sum of each Sp. Atk, Defense, and Total with pokemons primary element.\n"
      ]
    },
    {
      "cell_type": "code",
      "metadata": {
        "id": "XHLXxEuvooXd"
      },
      "source": [
        "#The data as described is:\n",
        "\n",
        "#: ID for each pokemon\n",
        "\n",
        "#Name: Name of each pokemon\n",
        "\n",
        "#Type 1: Each pokemon has a type, this determines weakness/resistance to attacks\n",
        "\n",
        "#Type 2: Some pokemon are dual type and have 2\n",
        "\n",
        "#Total: sum of all stats that come after this, a general guide to how strong a pokemon is\n",
        "\n",
        "#HP: hit points, or health, defines how much damage a pokemon can withstand before fainting\n",
        "\n",
        "#Attack: the base modifier for normal attacks (eg. Scratch, Punch)\n",
        "\n",
        "#Defense: the base damage resistance against normal attacks\n",
        "\n",
        "#SP Atk: special attack, the base modifier for special attacks (e.g. fire blast, bubble beam)\n",
        "\n",
        "#SP Def: the base damage resistance against special attacks\n",
        "\n",
        "#Speed: determines which pokemon attacks first each round"
      ],
      "execution_count": null,
      "outputs": []
    },
    {
      "cell_type": "markdown",
      "metadata": {
        "id": "Ar7rAF6XpDlc"
      },
      "source": [
        "#Library Used\n",
        "\n",
        "The set of library used in this particular set of data is Pandas and Numpy"
      ]
    },
    {
      "cell_type": "code",
      "metadata": {
        "id": "weMFFFwSc2PL"
      },
      "source": [
        "import pandas as pd\n",
        "import numpy as np"
      ],
      "execution_count": 2,
      "outputs": []
    },
    {
      "cell_type": "markdown",
      "metadata": {
        "id": "D1OBTed2gDmi"
      },
      "source": [
        "##Data Loading"
      ]
    },
    {
      "cell_type": "markdown",
      "metadata": {
        "id": "Ft_MkBrlBfgY"
      },
      "source": [
        "Now we load the data from the link given"
      ]
    },
    {
      "cell_type": "code",
      "metadata": {
        "id": "BwX_WT4hd19K"
      },
      "source": [
        "pokemon = pd.read_csv('/content/Pokemon.csv')"
      ],
      "execution_count": 4,
      "outputs": []
    },
    {
      "cell_type": "markdown",
      "metadata": {
        "id": "1H69YPVwBmRI"
      },
      "source": [
        "Having completed the data loading, we then use the .info syntax regarding the summary of the data :"
      ]
    },
    {
      "cell_type": "code",
      "metadata": {
        "colab": {
          "base_uri": "https://localhost:8080/"
        },
        "id": "l1Y09jEsgo9y",
        "outputId": "9b4496ac-59bc-438e-e5b4-81ff46f36c31"
      },
      "source": [
        "pokemon.info()"
      ],
      "execution_count": 5,
      "outputs": [
        {
          "output_type": "stream",
          "name": "stdout",
          "text": [
            "<class 'pandas.core.frame.DataFrame'>\n",
            "RangeIndex: 800 entries, 0 to 799\n",
            "Data columns (total 13 columns):\n",
            " #   Column      Non-Null Count  Dtype \n",
            "---  ------      --------------  ----- \n",
            " 0   #           800 non-null    int64 \n",
            " 1   Name        800 non-null    object\n",
            " 2   Type 1      800 non-null    object\n",
            " 3   Type 2      414 non-null    object\n",
            " 4   Total       800 non-null    int64 \n",
            " 5   HP          800 non-null    int64 \n",
            " 6   Attack      800 non-null    int64 \n",
            " 7   Defense     800 non-null    int64 \n",
            " 8   Sp. Atk     800 non-null    int64 \n",
            " 9   Sp. Def     800 non-null    int64 \n",
            " 10  Speed       800 non-null    int64 \n",
            " 11  Generation  800 non-null    int64 \n",
            " 12  Legendary   800 non-null    bool  \n",
            "dtypes: bool(1), int64(9), object(3)\n",
            "memory usage: 75.9+ KB\n"
          ]
        }
      ]
    },
    {
      "cell_type": "markdown",
      "metadata": {
        "id": "S7Qq03nGB3zL"
      },
      "source": [
        "From the above result, we now know that from all the 800 entries of the data, most of the columns are completely filled and nothing is missing apart from the column Type 2 that is only filled with 414 entries.\n",
        "\n",
        "\n",
        "\n",
        "---\n",
        "\n",
        "\n",
        "\n",
        "We then use the syntax .head to see the first 5 row of the data :"
      ]
    },
    {
      "cell_type": "code",
      "metadata": {
        "colab": {
          "base_uri": "https://localhost:8080/",
          "height": 202
        },
        "id": "M_s7ezrgePgV",
        "outputId": "a5dd0877-5f64-4fb7-e70b-fec050d3cbd9"
      },
      "source": [
        "pokemon.head()"
      ],
      "execution_count": 6,
      "outputs": [
        {
          "output_type": "execute_result",
          "data": {
            "text/html": [
              "<div>\n",
              "<style scoped>\n",
              "    .dataframe tbody tr th:only-of-type {\n",
              "        vertical-align: middle;\n",
              "    }\n",
              "\n",
              "    .dataframe tbody tr th {\n",
              "        vertical-align: top;\n",
              "    }\n",
              "\n",
              "    .dataframe thead th {\n",
              "        text-align: right;\n",
              "    }\n",
              "</style>\n",
              "<table border=\"1\" class=\"dataframe\">\n",
              "  <thead>\n",
              "    <tr style=\"text-align: right;\">\n",
              "      <th></th>\n",
              "      <th>#</th>\n",
              "      <th>Name</th>\n",
              "      <th>Type 1</th>\n",
              "      <th>Type 2</th>\n",
              "      <th>Total</th>\n",
              "      <th>HP</th>\n",
              "      <th>Attack</th>\n",
              "      <th>Defense</th>\n",
              "      <th>Sp. Atk</th>\n",
              "      <th>Sp. Def</th>\n",
              "      <th>Speed</th>\n",
              "      <th>Generation</th>\n",
              "      <th>Legendary</th>\n",
              "    </tr>\n",
              "  </thead>\n",
              "  <tbody>\n",
              "    <tr>\n",
              "      <th>0</th>\n",
              "      <td>1</td>\n",
              "      <td>Bulbasaur</td>\n",
              "      <td>Grass</td>\n",
              "      <td>Poison</td>\n",
              "      <td>318</td>\n",
              "      <td>45</td>\n",
              "      <td>49</td>\n",
              "      <td>49</td>\n",
              "      <td>65</td>\n",
              "      <td>65</td>\n",
              "      <td>45</td>\n",
              "      <td>1</td>\n",
              "      <td>False</td>\n",
              "    </tr>\n",
              "    <tr>\n",
              "      <th>1</th>\n",
              "      <td>2</td>\n",
              "      <td>Ivysaur</td>\n",
              "      <td>Grass</td>\n",
              "      <td>Poison</td>\n",
              "      <td>405</td>\n",
              "      <td>60</td>\n",
              "      <td>62</td>\n",
              "      <td>63</td>\n",
              "      <td>80</td>\n",
              "      <td>80</td>\n",
              "      <td>60</td>\n",
              "      <td>1</td>\n",
              "      <td>False</td>\n",
              "    </tr>\n",
              "    <tr>\n",
              "      <th>2</th>\n",
              "      <td>3</td>\n",
              "      <td>Venusaur</td>\n",
              "      <td>Grass</td>\n",
              "      <td>Poison</td>\n",
              "      <td>525</td>\n",
              "      <td>80</td>\n",
              "      <td>82</td>\n",
              "      <td>83</td>\n",
              "      <td>100</td>\n",
              "      <td>100</td>\n",
              "      <td>80</td>\n",
              "      <td>1</td>\n",
              "      <td>False</td>\n",
              "    </tr>\n",
              "    <tr>\n",
              "      <th>3</th>\n",
              "      <td>3</td>\n",
              "      <td>VenusaurMega Venusaur</td>\n",
              "      <td>Grass</td>\n",
              "      <td>Poison</td>\n",
              "      <td>625</td>\n",
              "      <td>80</td>\n",
              "      <td>100</td>\n",
              "      <td>123</td>\n",
              "      <td>122</td>\n",
              "      <td>120</td>\n",
              "      <td>80</td>\n",
              "      <td>1</td>\n",
              "      <td>False</td>\n",
              "    </tr>\n",
              "    <tr>\n",
              "      <th>4</th>\n",
              "      <td>4</td>\n",
              "      <td>Charmander</td>\n",
              "      <td>Fire</td>\n",
              "      <td>NaN</td>\n",
              "      <td>309</td>\n",
              "      <td>39</td>\n",
              "      <td>52</td>\n",
              "      <td>43</td>\n",
              "      <td>60</td>\n",
              "      <td>50</td>\n",
              "      <td>65</td>\n",
              "      <td>1</td>\n",
              "      <td>False</td>\n",
              "    </tr>\n",
              "  </tbody>\n",
              "</table>\n",
              "</div>"
            ],
            "text/plain": [
              "   #                   Name Type 1  ... Speed  Generation  Legendary\n",
              "0  1              Bulbasaur  Grass  ...    45           1      False\n",
              "1  2                Ivysaur  Grass  ...    60           1      False\n",
              "2  3               Venusaur  Grass  ...    80           1      False\n",
              "3  3  VenusaurMega Venusaur  Grass  ...    80           1      False\n",
              "4  4             Charmander   Fire  ...    65           1      False\n",
              "\n",
              "[5 rows x 13 columns]"
            ]
          },
          "metadata": {},
          "execution_count": 6
        }
      ]
    },
    {
      "cell_type": "markdown",
      "metadata": {
        "id": "hfd0Kv5NDhA7"
      },
      "source": [
        "We then use the .describe syntax to gather basic insight of the statistics of the data :"
      ]
    },
    {
      "cell_type": "code",
      "metadata": {
        "colab": {
          "base_uri": "https://localhost:8080/",
          "height": 294
        },
        "id": "PzPoMqItDpif",
        "outputId": "2004c8d5-3155-4d37-e064-95d9b950f7d8"
      },
      "source": [
        "pokemon.describe()"
      ],
      "execution_count": 7,
      "outputs": [
        {
          "output_type": "execute_result",
          "data": {
            "text/html": [
              "<div>\n",
              "<style scoped>\n",
              "    .dataframe tbody tr th:only-of-type {\n",
              "        vertical-align: middle;\n",
              "    }\n",
              "\n",
              "    .dataframe tbody tr th {\n",
              "        vertical-align: top;\n",
              "    }\n",
              "\n",
              "    .dataframe thead th {\n",
              "        text-align: right;\n",
              "    }\n",
              "</style>\n",
              "<table border=\"1\" class=\"dataframe\">\n",
              "  <thead>\n",
              "    <tr style=\"text-align: right;\">\n",
              "      <th></th>\n",
              "      <th>#</th>\n",
              "      <th>Total</th>\n",
              "      <th>HP</th>\n",
              "      <th>Attack</th>\n",
              "      <th>Defense</th>\n",
              "      <th>Sp. Atk</th>\n",
              "      <th>Sp. Def</th>\n",
              "      <th>Speed</th>\n",
              "      <th>Generation</th>\n",
              "    </tr>\n",
              "  </thead>\n",
              "  <tbody>\n",
              "    <tr>\n",
              "      <th>count</th>\n",
              "      <td>800.000000</td>\n",
              "      <td>800.00000</td>\n",
              "      <td>800.000000</td>\n",
              "      <td>800.000000</td>\n",
              "      <td>800.000000</td>\n",
              "      <td>800.000000</td>\n",
              "      <td>800.000000</td>\n",
              "      <td>800.000000</td>\n",
              "      <td>800.00000</td>\n",
              "    </tr>\n",
              "    <tr>\n",
              "      <th>mean</th>\n",
              "      <td>362.813750</td>\n",
              "      <td>435.10250</td>\n",
              "      <td>69.258750</td>\n",
              "      <td>79.001250</td>\n",
              "      <td>73.842500</td>\n",
              "      <td>72.820000</td>\n",
              "      <td>71.902500</td>\n",
              "      <td>68.277500</td>\n",
              "      <td>3.32375</td>\n",
              "    </tr>\n",
              "    <tr>\n",
              "      <th>std</th>\n",
              "      <td>208.343798</td>\n",
              "      <td>119.96304</td>\n",
              "      <td>25.534669</td>\n",
              "      <td>32.457366</td>\n",
              "      <td>31.183501</td>\n",
              "      <td>32.722294</td>\n",
              "      <td>27.828916</td>\n",
              "      <td>29.060474</td>\n",
              "      <td>1.66129</td>\n",
              "    </tr>\n",
              "    <tr>\n",
              "      <th>min</th>\n",
              "      <td>1.000000</td>\n",
              "      <td>180.00000</td>\n",
              "      <td>1.000000</td>\n",
              "      <td>5.000000</td>\n",
              "      <td>5.000000</td>\n",
              "      <td>10.000000</td>\n",
              "      <td>20.000000</td>\n",
              "      <td>5.000000</td>\n",
              "      <td>1.00000</td>\n",
              "    </tr>\n",
              "    <tr>\n",
              "      <th>25%</th>\n",
              "      <td>184.750000</td>\n",
              "      <td>330.00000</td>\n",
              "      <td>50.000000</td>\n",
              "      <td>55.000000</td>\n",
              "      <td>50.000000</td>\n",
              "      <td>49.750000</td>\n",
              "      <td>50.000000</td>\n",
              "      <td>45.000000</td>\n",
              "      <td>2.00000</td>\n",
              "    </tr>\n",
              "    <tr>\n",
              "      <th>50%</th>\n",
              "      <td>364.500000</td>\n",
              "      <td>450.00000</td>\n",
              "      <td>65.000000</td>\n",
              "      <td>75.000000</td>\n",
              "      <td>70.000000</td>\n",
              "      <td>65.000000</td>\n",
              "      <td>70.000000</td>\n",
              "      <td>65.000000</td>\n",
              "      <td>3.00000</td>\n",
              "    </tr>\n",
              "    <tr>\n",
              "      <th>75%</th>\n",
              "      <td>539.250000</td>\n",
              "      <td>515.00000</td>\n",
              "      <td>80.000000</td>\n",
              "      <td>100.000000</td>\n",
              "      <td>90.000000</td>\n",
              "      <td>95.000000</td>\n",
              "      <td>90.000000</td>\n",
              "      <td>90.000000</td>\n",
              "      <td>5.00000</td>\n",
              "    </tr>\n",
              "    <tr>\n",
              "      <th>max</th>\n",
              "      <td>721.000000</td>\n",
              "      <td>780.00000</td>\n",
              "      <td>255.000000</td>\n",
              "      <td>190.000000</td>\n",
              "      <td>230.000000</td>\n",
              "      <td>194.000000</td>\n",
              "      <td>230.000000</td>\n",
              "      <td>180.000000</td>\n",
              "      <td>6.00000</td>\n",
              "    </tr>\n",
              "  </tbody>\n",
              "</table>\n",
              "</div>"
            ],
            "text/plain": [
              "                #      Total          HP  ...     Sp. Def       Speed  Generation\n",
              "count  800.000000  800.00000  800.000000  ...  800.000000  800.000000   800.00000\n",
              "mean   362.813750  435.10250   69.258750  ...   71.902500   68.277500     3.32375\n",
              "std    208.343798  119.96304   25.534669  ...   27.828916   29.060474     1.66129\n",
              "min      1.000000  180.00000    1.000000  ...   20.000000    5.000000     1.00000\n",
              "25%    184.750000  330.00000   50.000000  ...   50.000000   45.000000     2.00000\n",
              "50%    364.500000  450.00000   65.000000  ...   70.000000   65.000000     3.00000\n",
              "75%    539.250000  515.00000   80.000000  ...   90.000000   90.000000     5.00000\n",
              "max    721.000000  780.00000  255.000000  ...  230.000000  180.000000     6.00000\n",
              "\n",
              "[8 rows x 9 columns]"
            ]
          },
          "metadata": {},
          "execution_count": 7
        }
      ]
    },
    {
      "cell_type": "markdown",
      "metadata": {
        "id": "-knktUMQACfR"
      },
      "source": [
        "#Data Cleaning"
      ]
    },
    {
      "cell_type": "markdown",
      "metadata": {
        "id": "i45ExJl_D_-w"
      },
      "source": [
        "From the information we have from the syntax .info, we learn that there is some missing value in Type 2 column"
      ]
    },
    {
      "cell_type": "code",
      "metadata": {
        "colab": {
          "base_uri": "https://localhost:8080/"
        },
        "id": "DwMpuEwC8zjt",
        "outputId": "a5a34d65-0e43-4d4f-8305-815425442cdf"
      },
      "source": [
        "pokemon['Type 2'].isnull()"
      ],
      "execution_count": 8,
      "outputs": [
        {
          "output_type": "execute_result",
          "data": {
            "text/plain": [
              "0      False\n",
              "1      False\n",
              "2      False\n",
              "3      False\n",
              "4       True\n",
              "       ...  \n",
              "795    False\n",
              "796    False\n",
              "797    False\n",
              "798    False\n",
              "799    False\n",
              "Name: Type 2, Length: 800, dtype: bool"
            ]
          },
          "metadata": {},
          "execution_count": 8
        }
      ]
    },
    {
      "cell_type": "markdown",
      "metadata": {
        "id": "UNwYE5LSD7yj"
      },
      "source": [
        "We then fill the missing column with value from the Type 1 column :"
      ]
    },
    {
      "cell_type": "code",
      "metadata": {
        "colab": {
          "base_uri": "https://localhost:8080/"
        },
        "id": "Ud74Xs6v-JxY",
        "outputId": "1aa6af84-fc00-40d0-d7dc-af232f92bce1"
      },
      "source": [
        "pokemon['Type 2'].fillna(pokemon['Type 1'], inplace=True)\n",
        "\n",
        "pokemon.info()"
      ],
      "execution_count": 9,
      "outputs": [
        {
          "output_type": "stream",
          "name": "stdout",
          "text": [
            "<class 'pandas.core.frame.DataFrame'>\n",
            "RangeIndex: 800 entries, 0 to 799\n",
            "Data columns (total 13 columns):\n",
            " #   Column      Non-Null Count  Dtype \n",
            "---  ------      --------------  ----- \n",
            " 0   #           800 non-null    int64 \n",
            " 1   Name        800 non-null    object\n",
            " 2   Type 1      800 non-null    object\n",
            " 3   Type 2      800 non-null    object\n",
            " 4   Total       800 non-null    int64 \n",
            " 5   HP          800 non-null    int64 \n",
            " 6   Attack      800 non-null    int64 \n",
            " 7   Defense     800 non-null    int64 \n",
            " 8   Sp. Atk     800 non-null    int64 \n",
            " 9   Sp. Def     800 non-null    int64 \n",
            " 10  Speed       800 non-null    int64 \n",
            " 11  Generation  800 non-null    int64 \n",
            " 12  Legendary   800 non-null    bool  \n",
            "dtypes: bool(1), int64(9), object(3)\n",
            "memory usage: 75.9+ KB\n"
          ]
        }
      ]
    },
    {
      "cell_type": "markdown",
      "metadata": {
        "id": "qaE4FOaqEHUd"
      },
      "source": [
        "After filling the missing data with data from the column Type 1, there are no longer missing data on the dataset\n",
        "\n",
        "---\n",
        "Using the syntax .head to see the first 10 row after filling the missing data\n"
      ]
    },
    {
      "cell_type": "code",
      "metadata": {
        "colab": {
          "base_uri": "https://localhost:8080/",
          "height": 355
        },
        "id": "rHvbJwQ9_0Wb",
        "outputId": "67fdd8b8-ee28-4b91-d145-437be1ae9c2b"
      },
      "source": [
        "pokemon.head(10)"
      ],
      "execution_count": 10,
      "outputs": [
        {
          "output_type": "execute_result",
          "data": {
            "text/html": [
              "<div>\n",
              "<style scoped>\n",
              "    .dataframe tbody tr th:only-of-type {\n",
              "        vertical-align: middle;\n",
              "    }\n",
              "\n",
              "    .dataframe tbody tr th {\n",
              "        vertical-align: top;\n",
              "    }\n",
              "\n",
              "    .dataframe thead th {\n",
              "        text-align: right;\n",
              "    }\n",
              "</style>\n",
              "<table border=\"1\" class=\"dataframe\">\n",
              "  <thead>\n",
              "    <tr style=\"text-align: right;\">\n",
              "      <th></th>\n",
              "      <th>#</th>\n",
              "      <th>Name</th>\n",
              "      <th>Type 1</th>\n",
              "      <th>Type 2</th>\n",
              "      <th>Total</th>\n",
              "      <th>HP</th>\n",
              "      <th>Attack</th>\n",
              "      <th>Defense</th>\n",
              "      <th>Sp. Atk</th>\n",
              "      <th>Sp. Def</th>\n",
              "      <th>Speed</th>\n",
              "      <th>Generation</th>\n",
              "      <th>Legendary</th>\n",
              "    </tr>\n",
              "  </thead>\n",
              "  <tbody>\n",
              "    <tr>\n",
              "      <th>0</th>\n",
              "      <td>1</td>\n",
              "      <td>Bulbasaur</td>\n",
              "      <td>Grass</td>\n",
              "      <td>Poison</td>\n",
              "      <td>318</td>\n",
              "      <td>45</td>\n",
              "      <td>49</td>\n",
              "      <td>49</td>\n",
              "      <td>65</td>\n",
              "      <td>65</td>\n",
              "      <td>45</td>\n",
              "      <td>1</td>\n",
              "      <td>False</td>\n",
              "    </tr>\n",
              "    <tr>\n",
              "      <th>1</th>\n",
              "      <td>2</td>\n",
              "      <td>Ivysaur</td>\n",
              "      <td>Grass</td>\n",
              "      <td>Poison</td>\n",
              "      <td>405</td>\n",
              "      <td>60</td>\n",
              "      <td>62</td>\n",
              "      <td>63</td>\n",
              "      <td>80</td>\n",
              "      <td>80</td>\n",
              "      <td>60</td>\n",
              "      <td>1</td>\n",
              "      <td>False</td>\n",
              "    </tr>\n",
              "    <tr>\n",
              "      <th>2</th>\n",
              "      <td>3</td>\n",
              "      <td>Venusaur</td>\n",
              "      <td>Grass</td>\n",
              "      <td>Poison</td>\n",
              "      <td>525</td>\n",
              "      <td>80</td>\n",
              "      <td>82</td>\n",
              "      <td>83</td>\n",
              "      <td>100</td>\n",
              "      <td>100</td>\n",
              "      <td>80</td>\n",
              "      <td>1</td>\n",
              "      <td>False</td>\n",
              "    </tr>\n",
              "    <tr>\n",
              "      <th>3</th>\n",
              "      <td>3</td>\n",
              "      <td>VenusaurMega Venusaur</td>\n",
              "      <td>Grass</td>\n",
              "      <td>Poison</td>\n",
              "      <td>625</td>\n",
              "      <td>80</td>\n",
              "      <td>100</td>\n",
              "      <td>123</td>\n",
              "      <td>122</td>\n",
              "      <td>120</td>\n",
              "      <td>80</td>\n",
              "      <td>1</td>\n",
              "      <td>False</td>\n",
              "    </tr>\n",
              "    <tr>\n",
              "      <th>4</th>\n",
              "      <td>4</td>\n",
              "      <td>Charmander</td>\n",
              "      <td>Fire</td>\n",
              "      <td>Fire</td>\n",
              "      <td>309</td>\n",
              "      <td>39</td>\n",
              "      <td>52</td>\n",
              "      <td>43</td>\n",
              "      <td>60</td>\n",
              "      <td>50</td>\n",
              "      <td>65</td>\n",
              "      <td>1</td>\n",
              "      <td>False</td>\n",
              "    </tr>\n",
              "    <tr>\n",
              "      <th>5</th>\n",
              "      <td>5</td>\n",
              "      <td>Charmeleon</td>\n",
              "      <td>Fire</td>\n",
              "      <td>Fire</td>\n",
              "      <td>405</td>\n",
              "      <td>58</td>\n",
              "      <td>64</td>\n",
              "      <td>58</td>\n",
              "      <td>80</td>\n",
              "      <td>65</td>\n",
              "      <td>80</td>\n",
              "      <td>1</td>\n",
              "      <td>False</td>\n",
              "    </tr>\n",
              "    <tr>\n",
              "      <th>6</th>\n",
              "      <td>6</td>\n",
              "      <td>Charizard</td>\n",
              "      <td>Fire</td>\n",
              "      <td>Flying</td>\n",
              "      <td>534</td>\n",
              "      <td>78</td>\n",
              "      <td>84</td>\n",
              "      <td>78</td>\n",
              "      <td>109</td>\n",
              "      <td>85</td>\n",
              "      <td>100</td>\n",
              "      <td>1</td>\n",
              "      <td>False</td>\n",
              "    </tr>\n",
              "    <tr>\n",
              "      <th>7</th>\n",
              "      <td>6</td>\n",
              "      <td>CharizardMega Charizard X</td>\n",
              "      <td>Fire</td>\n",
              "      <td>Dragon</td>\n",
              "      <td>634</td>\n",
              "      <td>78</td>\n",
              "      <td>130</td>\n",
              "      <td>111</td>\n",
              "      <td>130</td>\n",
              "      <td>85</td>\n",
              "      <td>100</td>\n",
              "      <td>1</td>\n",
              "      <td>False</td>\n",
              "    </tr>\n",
              "    <tr>\n",
              "      <th>8</th>\n",
              "      <td>6</td>\n",
              "      <td>CharizardMega Charizard Y</td>\n",
              "      <td>Fire</td>\n",
              "      <td>Flying</td>\n",
              "      <td>634</td>\n",
              "      <td>78</td>\n",
              "      <td>104</td>\n",
              "      <td>78</td>\n",
              "      <td>159</td>\n",
              "      <td>115</td>\n",
              "      <td>100</td>\n",
              "      <td>1</td>\n",
              "      <td>False</td>\n",
              "    </tr>\n",
              "    <tr>\n",
              "      <th>9</th>\n",
              "      <td>7</td>\n",
              "      <td>Squirtle</td>\n",
              "      <td>Water</td>\n",
              "      <td>Water</td>\n",
              "      <td>314</td>\n",
              "      <td>44</td>\n",
              "      <td>48</td>\n",
              "      <td>65</td>\n",
              "      <td>50</td>\n",
              "      <td>64</td>\n",
              "      <td>43</td>\n",
              "      <td>1</td>\n",
              "      <td>False</td>\n",
              "    </tr>\n",
              "  </tbody>\n",
              "</table>\n",
              "</div>"
            ],
            "text/plain": [
              "   #                       Name Type 1  ... Speed  Generation  Legendary\n",
              "0  1                  Bulbasaur  Grass  ...    45           1      False\n",
              "1  2                    Ivysaur  Grass  ...    60           1      False\n",
              "2  3                   Venusaur  Grass  ...    80           1      False\n",
              "3  3      VenusaurMega Venusaur  Grass  ...    80           1      False\n",
              "4  4                 Charmander   Fire  ...    65           1      False\n",
              "5  5                 Charmeleon   Fire  ...    80           1      False\n",
              "6  6                  Charizard   Fire  ...   100           1      False\n",
              "7  6  CharizardMega Charizard X   Fire  ...   100           1      False\n",
              "8  6  CharizardMega Charizard Y   Fire  ...   100           1      False\n",
              "9  7                   Squirtle  Water  ...    43           1      False\n",
              "\n",
              "[10 rows x 13 columns]"
            ]
          },
          "metadata": {},
          "execution_count": 10
        }
      ]
    },
    {
      "cell_type": "markdown",
      "metadata": {
        "id": "QTlq0o1EEjWA"
      },
      "source": [
        "From the above, we can now see that the missing data is filled with the same value as the Type 1 (ie. row No. 4 is Fire-Fire type)\n",
        "\n",
        "---\n",
        "Since only the main element of the pokemon is used, we can remove the second element of the pokemon\n",
        "\n",
        "I also remove the number of the pokemon, HP, Attack, Sp.Def and Speed since it is not needed.\n"
      ]
    },
    {
      "cell_type": "code",
      "metadata": {
        "colab": {
          "base_uri": "https://localhost:8080/"
        },
        "id": "sjWW94bRe4wB",
        "outputId": "777dce2c-a1f3-429e-c09d-37deedb4e9b5"
      },
      "source": [
        "pokemon_new = pokemon.drop(columns=['Type 2','#','HP','Attack','Sp. Def','Speed'])\n",
        "\n",
        "pokemon_new.info()"
      ],
      "execution_count": 11,
      "outputs": [
        {
          "output_type": "stream",
          "name": "stdout",
          "text": [
            "<class 'pandas.core.frame.DataFrame'>\n",
            "RangeIndex: 800 entries, 0 to 799\n",
            "Data columns (total 7 columns):\n",
            " #   Column      Non-Null Count  Dtype \n",
            "---  ------      --------------  ----- \n",
            " 0   Name        800 non-null    object\n",
            " 1   Type 1      800 non-null    object\n",
            " 2   Total       800 non-null    int64 \n",
            " 3   Defense     800 non-null    int64 \n",
            " 4   Sp. Atk     800 non-null    int64 \n",
            " 5   Generation  800 non-null    int64 \n",
            " 6   Legendary   800 non-null    bool  \n",
            "dtypes: bool(1), int64(4), object(2)\n",
            "memory usage: 38.4+ KB\n"
          ]
        }
      ]
    },
    {
      "cell_type": "markdown",
      "metadata": {
        "id": "B2CVjJ8EE_tE"
      },
      "source": [
        "After deleting the unused columns, we gather summary information using .info syntax. From the above, we learn that there is no problem since all the data is filled."
      ]
    },
    {
      "cell_type": "code",
      "metadata": {
        "colab": {
          "base_uri": "https://localhost:8080/",
          "height": 294
        },
        "id": "TRYX3WGxeF6k",
        "outputId": "78877b32-ea4e-4666-e269-534852d7b24b"
      },
      "source": [
        "pokemon_new.describe()"
      ],
      "execution_count": 12,
      "outputs": [
        {
          "output_type": "execute_result",
          "data": {
            "text/html": [
              "<div>\n",
              "<style scoped>\n",
              "    .dataframe tbody tr th:only-of-type {\n",
              "        vertical-align: middle;\n",
              "    }\n",
              "\n",
              "    .dataframe tbody tr th {\n",
              "        vertical-align: top;\n",
              "    }\n",
              "\n",
              "    .dataframe thead th {\n",
              "        text-align: right;\n",
              "    }\n",
              "</style>\n",
              "<table border=\"1\" class=\"dataframe\">\n",
              "  <thead>\n",
              "    <tr style=\"text-align: right;\">\n",
              "      <th></th>\n",
              "      <th>Total</th>\n",
              "      <th>Defense</th>\n",
              "      <th>Sp. Atk</th>\n",
              "      <th>Generation</th>\n",
              "    </tr>\n",
              "  </thead>\n",
              "  <tbody>\n",
              "    <tr>\n",
              "      <th>count</th>\n",
              "      <td>800.00000</td>\n",
              "      <td>800.000000</td>\n",
              "      <td>800.000000</td>\n",
              "      <td>800.00000</td>\n",
              "    </tr>\n",
              "    <tr>\n",
              "      <th>mean</th>\n",
              "      <td>435.10250</td>\n",
              "      <td>73.842500</td>\n",
              "      <td>72.820000</td>\n",
              "      <td>3.32375</td>\n",
              "    </tr>\n",
              "    <tr>\n",
              "      <th>std</th>\n",
              "      <td>119.96304</td>\n",
              "      <td>31.183501</td>\n",
              "      <td>32.722294</td>\n",
              "      <td>1.66129</td>\n",
              "    </tr>\n",
              "    <tr>\n",
              "      <th>min</th>\n",
              "      <td>180.00000</td>\n",
              "      <td>5.000000</td>\n",
              "      <td>10.000000</td>\n",
              "      <td>1.00000</td>\n",
              "    </tr>\n",
              "    <tr>\n",
              "      <th>25%</th>\n",
              "      <td>330.00000</td>\n",
              "      <td>50.000000</td>\n",
              "      <td>49.750000</td>\n",
              "      <td>2.00000</td>\n",
              "    </tr>\n",
              "    <tr>\n",
              "      <th>50%</th>\n",
              "      <td>450.00000</td>\n",
              "      <td>70.000000</td>\n",
              "      <td>65.000000</td>\n",
              "      <td>3.00000</td>\n",
              "    </tr>\n",
              "    <tr>\n",
              "      <th>75%</th>\n",
              "      <td>515.00000</td>\n",
              "      <td>90.000000</td>\n",
              "      <td>95.000000</td>\n",
              "      <td>5.00000</td>\n",
              "    </tr>\n",
              "    <tr>\n",
              "      <th>max</th>\n",
              "      <td>780.00000</td>\n",
              "      <td>230.000000</td>\n",
              "      <td>194.000000</td>\n",
              "      <td>6.00000</td>\n",
              "    </tr>\n",
              "  </tbody>\n",
              "</table>\n",
              "</div>"
            ],
            "text/plain": [
              "           Total     Defense     Sp. Atk  Generation\n",
              "count  800.00000  800.000000  800.000000   800.00000\n",
              "mean   435.10250   73.842500   72.820000     3.32375\n",
              "std    119.96304   31.183501   32.722294     1.66129\n",
              "min    180.00000    5.000000   10.000000     1.00000\n",
              "25%    330.00000   50.000000   49.750000     2.00000\n",
              "50%    450.00000   70.000000   65.000000     3.00000\n",
              "75%    515.00000   90.000000   95.000000     5.00000\n",
              "max    780.00000  230.000000  194.000000     6.00000"
            ]
          },
          "metadata": {},
          "execution_count": 12
        }
      ]
    },
    {
      "cell_type": "markdown",
      "metadata": {
        "id": "TKCoeO4dFdaK"
      },
      "source": [
        "Using the .describe syntax to see the basic statistic info of the new data set"
      ]
    },
    {
      "cell_type": "markdown",
      "metadata": {
        "id": "XotdHSoybInx"
      },
      "source": [
        "#Data Exploration"
      ]
    },
    {
      "cell_type": "markdown",
      "metadata": {
        "id": "6CHJQbUWnJ2p"
      },
      "source": [
        "First Objective: Legendary Pokemon with Most Sp. Atk"
      ]
    },
    {
      "cell_type": "code",
      "metadata": {
        "colab": {
          "base_uri": "https://localhost:8080/",
          "height": 355
        },
        "id": "AUsc_JneFG1F",
        "outputId": "93cab608-d6e9-4ae7-ef4f-e25b1dc478b5"
      },
      "source": [
        "pokemon_new1 = pokemon_new[(pokemon_new['Legendary'] == True) &\n",
        "                           (pokemon_new['Sp. Atk'] > 10)                         \n",
        "                          ]\n",
        "\n",
        "pokemon_new1_obj1 = pokemon_new1.sort_values(['Sp. Atk'] , ascending=False)\n",
        "\n",
        "pokemon_new1_obj1.head(10)"
      ],
      "execution_count": 13,
      "outputs": [
        {
          "output_type": "execute_result",
          "data": {
            "text/html": [
              "<div>\n",
              "<style scoped>\n",
              "    .dataframe tbody tr th:only-of-type {\n",
              "        vertical-align: middle;\n",
              "    }\n",
              "\n",
              "    .dataframe tbody tr th {\n",
              "        vertical-align: top;\n",
              "    }\n",
              "\n",
              "    .dataframe thead th {\n",
              "        text-align: right;\n",
              "    }\n",
              "</style>\n",
              "<table border=\"1\" class=\"dataframe\">\n",
              "  <thead>\n",
              "    <tr style=\"text-align: right;\">\n",
              "      <th></th>\n",
              "      <th>Name</th>\n",
              "      <th>Type 1</th>\n",
              "      <th>Total</th>\n",
              "      <th>Defense</th>\n",
              "      <th>Sp. Atk</th>\n",
              "      <th>Generation</th>\n",
              "      <th>Legendary</th>\n",
              "    </tr>\n",
              "  </thead>\n",
              "  <tbody>\n",
              "    <tr>\n",
              "      <th>164</th>\n",
              "      <td>MewtwoMega Mewtwo Y</td>\n",
              "      <td>Psychic</td>\n",
              "      <td>780</td>\n",
              "      <td>70</td>\n",
              "      <td>194</td>\n",
              "      <td>1</td>\n",
              "      <td>True</td>\n",
              "    </tr>\n",
              "    <tr>\n",
              "      <th>429</th>\n",
              "      <td>DeoxysAttack Forme</td>\n",
              "      <td>Psychic</td>\n",
              "      <td>600</td>\n",
              "      <td>20</td>\n",
              "      <td>180</td>\n",
              "      <td>3</td>\n",
              "      <td>True</td>\n",
              "    </tr>\n",
              "    <tr>\n",
              "      <th>426</th>\n",
              "      <td>RayquazaMega Rayquaza</td>\n",
              "      <td>Dragon</td>\n",
              "      <td>780</td>\n",
              "      <td>100</td>\n",
              "      <td>180</td>\n",
              "      <td>3</td>\n",
              "      <td>True</td>\n",
              "    </tr>\n",
              "    <tr>\n",
              "      <th>422</th>\n",
              "      <td>KyogrePrimal Kyogre</td>\n",
              "      <td>Water</td>\n",
              "      <td>770</td>\n",
              "      <td>90</td>\n",
              "      <td>180</td>\n",
              "      <td>3</td>\n",
              "      <td>True</td>\n",
              "    </tr>\n",
              "    <tr>\n",
              "      <th>798</th>\n",
              "      <td>HoopaHoopa Unbound</td>\n",
              "      <td>Psychic</td>\n",
              "      <td>680</td>\n",
              "      <td>60</td>\n",
              "      <td>170</td>\n",
              "      <td>6</td>\n",
              "      <td>True</td>\n",
              "    </tr>\n",
              "    <tr>\n",
              "      <th>712</th>\n",
              "      <td>KyuremWhite Kyurem</td>\n",
              "      <td>Dragon</td>\n",
              "      <td>700</td>\n",
              "      <td>90</td>\n",
              "      <td>170</td>\n",
              "      <td>5</td>\n",
              "      <td>True</td>\n",
              "    </tr>\n",
              "    <tr>\n",
              "      <th>420</th>\n",
              "      <td>LatiosMega Latios</td>\n",
              "      <td>Dragon</td>\n",
              "      <td>700</td>\n",
              "      <td>100</td>\n",
              "      <td>160</td>\n",
              "      <td>3</td>\n",
              "      <td>True</td>\n",
              "    </tr>\n",
              "    <tr>\n",
              "      <th>796</th>\n",
              "      <td>DiancieMega Diancie</td>\n",
              "      <td>Rock</td>\n",
              "      <td>700</td>\n",
              "      <td>110</td>\n",
              "      <td>160</td>\n",
              "      <td>6</td>\n",
              "      <td>True</td>\n",
              "    </tr>\n",
              "    <tr>\n",
              "      <th>162</th>\n",
              "      <td>Mewtwo</td>\n",
              "      <td>Psychic</td>\n",
              "      <td>680</td>\n",
              "      <td>90</td>\n",
              "      <td>154</td>\n",
              "      <td>1</td>\n",
              "      <td>True</td>\n",
              "    </tr>\n",
              "    <tr>\n",
              "      <th>163</th>\n",
              "      <td>MewtwoMega Mewtwo X</td>\n",
              "      <td>Psychic</td>\n",
              "      <td>780</td>\n",
              "      <td>100</td>\n",
              "      <td>154</td>\n",
              "      <td>1</td>\n",
              "      <td>True</td>\n",
              "    </tr>\n",
              "  </tbody>\n",
              "</table>\n",
              "</div>"
            ],
            "text/plain": [
              "                      Name   Type 1  Total  ...  Sp. Atk  Generation  Legendary\n",
              "164    MewtwoMega Mewtwo Y  Psychic    780  ...      194           1       True\n",
              "429     DeoxysAttack Forme  Psychic    600  ...      180           3       True\n",
              "426  RayquazaMega Rayquaza   Dragon    780  ...      180           3       True\n",
              "422    KyogrePrimal Kyogre    Water    770  ...      180           3       True\n",
              "798     HoopaHoopa Unbound  Psychic    680  ...      170           6       True\n",
              "712     KyuremWhite Kyurem   Dragon    700  ...      170           5       True\n",
              "420      LatiosMega Latios   Dragon    700  ...      160           3       True\n",
              "796    DiancieMega Diancie     Rock    700  ...      160           6       True\n",
              "162                 Mewtwo  Psychic    680  ...      154           1       True\n",
              "163    MewtwoMega Mewtwo X  Psychic    780  ...      154           1       True\n",
              "\n",
              "[10 rows x 7 columns]"
            ]
          },
          "metadata": {},
          "execution_count": 13
        }
      ]
    },
    {
      "cell_type": "markdown",
      "metadata": {
        "id": "TKYJZ6vnFln4"
      },
      "source": [
        "From the above query, we now learn that the top 10 legendary pokemon with biggest Sp. Atk, topped with Mega Mewtwo Y with 194 in Sp. Atk"
      ]
    },
    {
      "cell_type": "markdown",
      "metadata": {
        "id": "jU1PLbcznN_i"
      },
      "source": [
        "Second Objective : Non Legendary Pokemon with least Defense."
      ]
    },
    {
      "cell_type": "code",
      "metadata": {
        "colab": {
          "base_uri": "https://localhost:8080/",
          "height": 355
        },
        "id": "LJR_MdXQm_bD",
        "outputId": "57ad4af0-f107-4851-ab87-7178e6032b87"
      },
      "source": [
        "pokemon_new2 = pokemon_new[(pokemon_new['Legendary'] == False) &\n",
        "                           (pokemon_new['Defense'] > 5)                         \n",
        "                          ]\n",
        "\n",
        "pokemon_new1_obj2 = pokemon_new2.sort_values(['Defense'] , ascending=True)\n",
        "\n",
        "pokemon_new1_obj2.head(10)"
      ],
      "execution_count": 14,
      "outputs": [
        {
          "output_type": "execute_result",
          "data": {
            "text/html": [
              "<div>\n",
              "<style scoped>\n",
              "    .dataframe tbody tr th:only-of-type {\n",
              "        vertical-align: middle;\n",
              "    }\n",
              "\n",
              "    .dataframe tbody tr th {\n",
              "        vertical-align: top;\n",
              "    }\n",
              "\n",
              "    .dataframe thead th {\n",
              "        text-align: right;\n",
              "    }\n",
              "</style>\n",
              "<table border=\"1\" class=\"dataframe\">\n",
              "  <thead>\n",
              "    <tr style=\"text-align: right;\">\n",
              "      <th></th>\n",
              "      <th>Name</th>\n",
              "      <th>Type 1</th>\n",
              "      <th>Total</th>\n",
              "      <th>Defense</th>\n",
              "      <th>Sp. Atk</th>\n",
              "      <th>Generation</th>\n",
              "      <th>Legendary</th>\n",
              "    </tr>\n",
              "  </thead>\n",
              "  <tbody>\n",
              "    <tr>\n",
              "      <th>261</th>\n",
              "      <td>Blissey</td>\n",
              "      <td>Normal</td>\n",
              "      <td>540</td>\n",
              "      <td>10</td>\n",
              "      <td>75</td>\n",
              "      <td>2</td>\n",
              "      <td>False</td>\n",
              "    </tr>\n",
              "    <tr>\n",
              "      <th>257</th>\n",
              "      <td>Smoochum</td>\n",
              "      <td>Ice</td>\n",
              "      <td>305</td>\n",
              "      <td>15</td>\n",
              "      <td>85</td>\n",
              "      <td>2</td>\n",
              "      <td>False</td>\n",
              "    </tr>\n",
              "    <tr>\n",
              "      <th>188</th>\n",
              "      <td>Igglybuff</td>\n",
              "      <td>Normal</td>\n",
              "      <td>210</td>\n",
              "      <td>15</td>\n",
              "      <td>40</td>\n",
              "      <td>2</td>\n",
              "      <td>False</td>\n",
              "    </tr>\n",
              "    <tr>\n",
              "      <th>186</th>\n",
              "      <td>Pichu</td>\n",
              "      <td>Electric</td>\n",
              "      <td>205</td>\n",
              "      <td>15</td>\n",
              "      <td>35</td>\n",
              "      <td>2</td>\n",
              "      <td>False</td>\n",
              "    </tr>\n",
              "    <tr>\n",
              "      <th>68</th>\n",
              "      <td>Abra</td>\n",
              "      <td>Psychic</td>\n",
              "      <td>310</td>\n",
              "      <td>15</td>\n",
              "      <td>105</td>\n",
              "      <td>1</td>\n",
              "      <td>False</td>\n",
              "    </tr>\n",
              "    <tr>\n",
              "      <th>347</th>\n",
              "      <td>Carvanha</td>\n",
              "      <td>Water</td>\n",
              "      <td>305</td>\n",
              "      <td>20</td>\n",
              "      <td>65</td>\n",
              "      <td>3</td>\n",
              "      <td>False</td>\n",
              "    </tr>\n",
              "    <tr>\n",
              "      <th>381</th>\n",
              "      <td>Feebas</td>\n",
              "      <td>Water</td>\n",
              "      <td>200</td>\n",
              "      <td>20</td>\n",
              "      <td>10</td>\n",
              "      <td>3</td>\n",
              "      <td>False</td>\n",
              "    </tr>\n",
              "    <tr>\n",
              "      <th>44</th>\n",
              "      <td>Jigglypuff</td>\n",
              "      <td>Normal</td>\n",
              "      <td>270</td>\n",
              "      <td>20</td>\n",
              "      <td>45</td>\n",
              "      <td>1</td>\n",
              "      <td>False</td>\n",
              "    </tr>\n",
              "    <tr>\n",
              "      <th>317</th>\n",
              "      <td>Whismur</td>\n",
              "      <td>Normal</td>\n",
              "      <td>240</td>\n",
              "      <td>23</td>\n",
              "      <td>51</td>\n",
              "      <td>3</td>\n",
              "      <td>False</td>\n",
              "    </tr>\n",
              "    <tr>\n",
              "      <th>55</th>\n",
              "      <td>Diglett</td>\n",
              "      <td>Ground</td>\n",
              "      <td>265</td>\n",
              "      <td>25</td>\n",
              "      <td>35</td>\n",
              "      <td>1</td>\n",
              "      <td>False</td>\n",
              "    </tr>\n",
              "  </tbody>\n",
              "</table>\n",
              "</div>"
            ],
            "text/plain": [
              "           Name    Type 1  Total  Defense  Sp. Atk  Generation  Legendary\n",
              "261     Blissey    Normal    540       10       75           2      False\n",
              "257    Smoochum       Ice    305       15       85           2      False\n",
              "188   Igglybuff    Normal    210       15       40           2      False\n",
              "186       Pichu  Electric    205       15       35           2      False\n",
              "68         Abra   Psychic    310       15      105           1      False\n",
              "347    Carvanha     Water    305       20       65           3      False\n",
              "381      Feebas     Water    200       20       10           3      False\n",
              "44   Jigglypuff    Normal    270       20       45           1      False\n",
              "317     Whismur    Normal    240       23       51           3      False\n",
              "55      Diglett    Ground    265       25       35           1      False"
            ]
          },
          "metadata": {},
          "execution_count": 14
        }
      ]
    },
    {
      "cell_type": "markdown",
      "metadata": {
        "id": "cL7LTjcHF7Je"
      },
      "source": [
        "From the above query, we now learn that the top 10 Non Legendary Pokemon with least Defense, topped with Blissey with only 10 in Defense"
      ]
    },
    {
      "cell_type": "markdown",
      "metadata": {
        "id": "0KvhqfKkHRAl"
      },
      "source": [
        "Third Objective : Gen 2 Pokemon with Most Total"
      ]
    },
    {
      "cell_type": "code",
      "metadata": {
        "colab": {
          "base_uri": "https://localhost:8080/",
          "height": 355
        },
        "id": "9XzZMIHmLlJN",
        "outputId": "02e0b195-2668-41ca-cb0e-b5be70008259"
      },
      "source": [
        "pokemon_new3 = pokemon_new[(pokemon_new['Generation'] == 2) &\n",
        "                           (pokemon_new['Total'] > 180)                         \n",
        "                          ]\n",
        "\n",
        "pokemon_new1_obj3 = pokemon_new3.sort_values(['Total'] , ascending=False)\n",
        "\n",
        "pokemon_new1_obj3.head(10)"
      ],
      "execution_count": 15,
      "outputs": [
        {
          "output_type": "execute_result",
          "data": {
            "text/html": [
              "<div>\n",
              "<style scoped>\n",
              "    .dataframe tbody tr th:only-of-type {\n",
              "        vertical-align: middle;\n",
              "    }\n",
              "\n",
              "    .dataframe tbody tr th {\n",
              "        vertical-align: top;\n",
              "    }\n",
              "\n",
              "    .dataframe thead th {\n",
              "        text-align: right;\n",
              "    }\n",
              "</style>\n",
              "<table border=\"1\" class=\"dataframe\">\n",
              "  <thead>\n",
              "    <tr style=\"text-align: right;\">\n",
              "      <th></th>\n",
              "      <th>Name</th>\n",
              "      <th>Type 1</th>\n",
              "      <th>Total</th>\n",
              "      <th>Defense</th>\n",
              "      <th>Sp. Atk</th>\n",
              "      <th>Generation</th>\n",
              "      <th>Legendary</th>\n",
              "    </tr>\n",
              "  </thead>\n",
              "  <tbody>\n",
              "    <tr>\n",
              "      <th>268</th>\n",
              "      <td>TyranitarMega Tyranitar</td>\n",
              "      <td>Rock</td>\n",
              "      <td>700</td>\n",
              "      <td>150</td>\n",
              "      <td>95</td>\n",
              "      <td>2</td>\n",
              "      <td>False</td>\n",
              "    </tr>\n",
              "    <tr>\n",
              "      <th>270</th>\n",
              "      <td>Ho-oh</td>\n",
              "      <td>Fire</td>\n",
              "      <td>680</td>\n",
              "      <td>90</td>\n",
              "      <td>110</td>\n",
              "      <td>2</td>\n",
              "      <td>True</td>\n",
              "    </tr>\n",
              "    <tr>\n",
              "      <th>269</th>\n",
              "      <td>Lugia</td>\n",
              "      <td>Psychic</td>\n",
              "      <td>680</td>\n",
              "      <td>130</td>\n",
              "      <td>90</td>\n",
              "      <td>2</td>\n",
              "      <td>True</td>\n",
              "    </tr>\n",
              "    <tr>\n",
              "      <th>224</th>\n",
              "      <td>SteelixMega Steelix</td>\n",
              "      <td>Steel</td>\n",
              "      <td>610</td>\n",
              "      <td>230</td>\n",
              "      <td>55</td>\n",
              "      <td>2</td>\n",
              "      <td>False</td>\n",
              "    </tr>\n",
              "    <tr>\n",
              "      <th>196</th>\n",
              "      <td>AmpharosMega Ampharos</td>\n",
              "      <td>Electric</td>\n",
              "      <td>610</td>\n",
              "      <td>105</td>\n",
              "      <td>165</td>\n",
              "      <td>2</td>\n",
              "      <td>False</td>\n",
              "    </tr>\n",
              "    <tr>\n",
              "      <th>271</th>\n",
              "      <td>Celebi</td>\n",
              "      <td>Psychic</td>\n",
              "      <td>600</td>\n",
              "      <td>100</td>\n",
              "      <td>100</td>\n",
              "      <td>2</td>\n",
              "      <td>False</td>\n",
              "    </tr>\n",
              "    <tr>\n",
              "      <th>232</th>\n",
              "      <td>HeracrossMega Heracross</td>\n",
              "      <td>Bug</td>\n",
              "      <td>600</td>\n",
              "      <td>115</td>\n",
              "      <td>40</td>\n",
              "      <td>2</td>\n",
              "      <td>False</td>\n",
              "    </tr>\n",
              "    <tr>\n",
              "      <th>248</th>\n",
              "      <td>HoundoomMega Houndoom</td>\n",
              "      <td>Dark</td>\n",
              "      <td>600</td>\n",
              "      <td>90</td>\n",
              "      <td>140</td>\n",
              "      <td>2</td>\n",
              "      <td>False</td>\n",
              "    </tr>\n",
              "    <tr>\n",
              "      <th>229</th>\n",
              "      <td>ScizorMega Scizor</td>\n",
              "      <td>Bug</td>\n",
              "      <td>600</td>\n",
              "      <td>140</td>\n",
              "      <td>65</td>\n",
              "      <td>2</td>\n",
              "      <td>False</td>\n",
              "    </tr>\n",
              "    <tr>\n",
              "      <th>267</th>\n",
              "      <td>Tyranitar</td>\n",
              "      <td>Rock</td>\n",
              "      <td>600</td>\n",
              "      <td>110</td>\n",
              "      <td>95</td>\n",
              "      <td>2</td>\n",
              "      <td>False</td>\n",
              "    </tr>\n",
              "  </tbody>\n",
              "</table>\n",
              "</div>"
            ],
            "text/plain": [
              "                        Name    Type 1  Total  ...  Sp. Atk  Generation  Legendary\n",
              "268  TyranitarMega Tyranitar      Rock    700  ...       95           2      False\n",
              "270                    Ho-oh      Fire    680  ...      110           2       True\n",
              "269                    Lugia   Psychic    680  ...       90           2       True\n",
              "224      SteelixMega Steelix     Steel    610  ...       55           2      False\n",
              "196    AmpharosMega Ampharos  Electric    610  ...      165           2      False\n",
              "271                   Celebi   Psychic    600  ...      100           2      False\n",
              "232  HeracrossMega Heracross       Bug    600  ...       40           2      False\n",
              "248    HoundoomMega Houndoom      Dark    600  ...      140           2      False\n",
              "229        ScizorMega Scizor       Bug    600  ...       65           2      False\n",
              "267                Tyranitar      Rock    600  ...       95           2      False\n",
              "\n",
              "[10 rows x 7 columns]"
            ]
          },
          "metadata": {},
          "execution_count": 15
        }
      ]
    },
    {
      "cell_type": "markdown",
      "metadata": {
        "id": "rhZzvDQhGVM8"
      },
      "source": [
        "From the above query, we now learn that the top 10 Gen 2 Pokemon with Most Total, topped with Mega Tyranitar with 700 in Total."
      ]
    },
    {
      "cell_type": "markdown",
      "metadata": {
        "id": "jwUAgZ_aw6sY"
      },
      "source": [
        "#Data Grouping"
      ]
    },
    {
      "cell_type": "markdown",
      "metadata": {
        "id": "QnhBzygyioL8"
      },
      "source": [
        "In this grouping section, we will learn the minimum value and maximum value of the data in the selected data."
      ]
    },
    {
      "cell_type": "markdown",
      "metadata": {
        "id": "JrVv2bbHxh7j"
      },
      "source": [
        "Value Max and Min of Total"
      ]
    },
    {
      "cell_type": "code",
      "metadata": {
        "colab": {
          "base_uri": "https://localhost:8080/"
        },
        "id": "LE4yMIbBw9Oj",
        "outputId": "7146b761-19a1-4adb-c1a4-27683d7f786b"
      },
      "source": [
        "TotalPokemon = (pokemon_new['Total'])\n",
        "\n",
        "print(f'The data list of pokemon have the Max Total of {TotalPokemon.max()} \\n')\n",
        "\n",
        "print(f'The data list of pokemon have the Min Total of {TotalPokemon.min()}')"
      ],
      "execution_count": 29,
      "outputs": [
        {
          "output_type": "stream",
          "name": "stdout",
          "text": [
            "The data list of pokemon have the Max Total of 780 \n",
            "\n",
            "The data list of pokemon have the Min Total of 180\n"
          ]
        }
      ]
    },
    {
      "cell_type": "markdown",
      "metadata": {
        "id": "ECZskGTL1pfV"
      },
      "source": [
        "Value Max and Min of Sp. Atk"
      ]
    },
    {
      "cell_type": "code",
      "metadata": {
        "colab": {
          "base_uri": "https://localhost:8080/"
        },
        "id": "10v04l1-2EYj",
        "outputId": "af29b3e4-24b5-4b36-bdf0-b9886c0c6618"
      },
      "source": [
        "SpAtkPokemon = (pokemon_new['Sp. Atk'])\n",
        "\n",
        "print(f'The data list of pokemon have the Max Sp. Atk of {SpAtkPokemon.max()} \\n')\n",
        "\n",
        "print(f'The data list of pokemon have the Min Sp. Atk of {SpAtkPokemon.min()}')"
      ],
      "execution_count": 30,
      "outputs": [
        {
          "output_type": "stream",
          "name": "stdout",
          "text": [
            "The data list of pokemon have the Max Sp. Atk of 194 \n",
            "\n",
            "The data list of pokemon have the Min Sp. Atk of 10\n"
          ]
        }
      ]
    },
    {
      "cell_type": "markdown",
      "metadata": {
        "id": "qlUYk-N02cmW"
      },
      "source": [
        "Value Max and Min of Defense"
      ]
    },
    {
      "cell_type": "code",
      "metadata": {
        "colab": {
          "base_uri": "https://localhost:8080/"
        },
        "id": "n70KAu6J2d-V",
        "outputId": "056e56ec-4363-435d-88e9-cea13da6c683"
      },
      "source": [
        "DefensePokemon = (pokemon_new['Defense'])\n",
        "\n",
        "print(f'The data list of pokemon have the Max Defense of {DefensePokemon.max()} \\n')\n",
        "\n",
        "print(f'The data list of pokemon have the Min Defense of {DefensePokemon.min()}')"
      ],
      "execution_count": 42,
      "outputs": [
        {
          "output_type": "stream",
          "name": "stdout",
          "text": [
            "The data list of pokemon have the Max Defense of 230 \n",
            "\n",
            "The data list of pokemon have the Min Defense of 5\n"
          ]
        }
      ]
    },
    {
      "cell_type": "markdown",
      "metadata": {
        "id": "GMIA1VMu4-x5"
      },
      "source": [
        "#Bar Graph"
      ]
    },
    {
      "cell_type": "markdown",
      "metadata": {
        "id": "boeUUhAh607a"
      },
      "source": [
        "Comparing the sum of Sp. Atk of all the pokemon with their element"
      ]
    },
    {
      "cell_type": "code",
      "metadata": {
        "colab": {
          "base_uri": "https://localhost:8080/",
          "height": 326
        },
        "id": "J5oLeact4-lC",
        "outputId": "6e8313c8-0e7d-4070-9f8a-4ebc480baa96"
      },
      "source": [
        "pokemon_new[pokemon_new['Sp. Atk'] > 0].groupby('Type 1')['Sp. Atk'].sum().plot(kind='bar')"
      ],
      "execution_count": 46,
      "outputs": [
        {
          "output_type": "execute_result",
          "data": {
            "text/plain": [
              "<matplotlib.axes._subplots.AxesSubplot at 0x7f2eaf29a490>"
            ]
          },
          "metadata": {},
          "execution_count": 46
        },
        {
          "output_type": "display_data",
          "data": {
            "image/png": "[encoded data removed]",
            "text/plain": [
              "<Figure size 432x288 with 1 Axes>"
            ]
          },
          "metadata": {
            "needs_background": "light"
          }
        }
      ]
    },
    {
      "cell_type": "markdown",
      "metadata": {
        "id": "k8Q3CyybjMV1"
      },
      "source": [
        "By comparing the sum of the Sp. Atk. of the Pokemon in each of their primary element, we now learn that the **Water element pokemon has the most Sp. Atk**"
      ]
    },
    {
      "cell_type": "markdown",
      "metadata": {
        "id": "yL_y643X7CB4"
      },
      "source": [
        "Comparing the sum of Total of all the pokemon with their element"
      ]
    },
    {
      "cell_type": "code",
      "metadata": {
        "colab": {
          "base_uri": "https://localhost:8080/",
          "height": 327
        },
        "id": "TXBLCvab7ElH",
        "outputId": "4f86a350-cdb7-491b-cded-3aa108405402"
      },
      "source": [
        "pokemon_new[pokemon_new['Total'] > 0].groupby('Type 1')['Total'].sum().plot(kind='bar')"
      ],
      "execution_count": 47,
      "outputs": [
        {
          "output_type": "execute_result",
          "data": {
            "text/plain": [
              "<matplotlib.axes._subplots.AxesSubplot at 0x7f2eaf163490>"
            ]
          },
          "metadata": {},
          "execution_count": 47
        },
        {
          "output_type": "display_data",
          "data": {
            "image/png": "[encoded data removed]",
            "text/plain": [
              "<Figure size 432x288 with 1 Axes>"
            ]
          },
          "metadata": {
            "needs_background": "light"
          }
        }
      ]
    },
    {
      "cell_type": "markdown",
      "metadata": {
        "id": "YrburdprjNPR"
      },
      "source": [
        "By comparing the sum of the Total of the Pokemon in each of their primary element, we now learn that the **Water element pokemon has the most Total**"
      ]
    },
    {
      "cell_type": "markdown",
      "metadata": {
        "id": "dHTX09-C7Rbo"
      },
      "source": [
        "Comparing the sum of Defense of all the pokemon with their element"
      ]
    },
    {
      "cell_type": "code",
      "metadata": {
        "colab": {
          "base_uri": "https://localhost:8080/",
          "height": 326
        },
        "id": "1nQVBjFN7TEf",
        "outputId": "7a021053-0dd1-4f79-e33d-06d53dca25ff"
      },
      "source": [
        "pokemon_new[pokemon_new['Defense'] > 0].groupby('Type 1')['Defense'].sum().plot(kind='bar')"
      ],
      "execution_count": 48,
      "outputs": [
        {
          "output_type": "execute_result",
          "data": {
            "text/plain": [
              "<matplotlib.axes._subplots.AxesSubplot at 0x7f2eaf0f6d10>"
            ]
          },
          "metadata": {},
          "execution_count": 48
        },
        {
          "output_type": "display_data",
          "data": {
            "image/png": "[encoded data removed]",
            "text/plain": [
              "<Figure size 432x288 with 1 Axes>"
            ]
          },
          "metadata": {
            "needs_background": "light"
          }
        }
      ]
    },
    {
      "cell_type": "markdown",
      "metadata": {
        "id": "dv3cJ4u4jNwM"
      },
      "source": [
        "By comparing the sum of the Defense of the Pokemon in each of their primary element, we now learn that the **Water element pokemon has the most Defense**"
      ]
    },
    {
      "cell_type": "markdown",
      "metadata": {
        "id": "09iWL9n-7kow"
      },
      "source": [
        "#Summary"
      ]
    },
    {
      "cell_type": "markdown",
      "metadata": {
        "id": "TF_jLkcpkqh1"
      },
      "source": [
        "In summary, from the objective set on the beginning of the notebook:\n",
        "\n",
        "In this set of data, I will show top 10 pokemon which primary element or type 1:\n",
        "\n",
        "1. Legendary pokemon with most Sp Atk.\n",
        "\n",
        "> From the query of this data, we learn that the Legendary pokemon with the most Sp. Atk is Mega Mewtwo Y with 194 points of Sp. Atk\n",
        "\n",
        "2. Non Legendary Pokemon with least Defense.\n",
        "\n",
        "> From the query of this data, we learn that the Non Legendary pokemon with the least Defense is Blissey with 10 points of Defense\n",
        "\n",
        "3. Gen 2 Pokemon with Most Total.\n",
        "\n",
        "> From the query of this data, we learn that the Generation 2 pokemon with the most Total is Mega Tyranitar with 700 points of Total\n",
        "\n",
        "4. The set of data will also shows the value of the most and least Total, Sp. Atk, and Defense.\n",
        "\n",
        "> From the query of the data, we learn:\n",
        "\n",
        ">1.   In all the data provided, the Min. of Total is 180 while the Max. is 780\n",
        ">2.   In all the data provided, the Min. of Sp. Atk is 10 while the Max. is 194\n",
        ">3.   In all the data provided, the Min. of Defense is 5 while the Max. is 230\n",
        "\n",
        "5. And at the end, bar graphs will be shown, by comparing the sum of each Sp. Atk, Defense, and Total with pokemons primary element.\n",
        "\n",
        "> From the bar graph generated by the code we learn that by comparing the sum of Sp. Atk, Defense, and Total with their primary element, we learn:\n",
        "\n",
        "> 1. The Water element pokemon has the most Sp. Atk\n",
        "> 2. The Water element pokemon has the most Total\n",
        "> 3. The Water element pokemon has the most Defense\n",
        "\n"
      ]
    }
  ]
}