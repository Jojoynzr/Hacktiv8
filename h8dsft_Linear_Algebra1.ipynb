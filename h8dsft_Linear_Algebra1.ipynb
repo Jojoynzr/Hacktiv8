{
  "nbformat": 4,
  "nbformat_minor": 0,
  "metadata": {
    "colab": {
      "name": "h8dsft_Linear_Algebra1.ipynb",
      "provenance": [],
      "collapsed_sections": []
    },
    "kernelspec": {
      "name": "python3",
      "display_name": "Python 3"
    },
    "language_info": {
      "name": "python"
    }
  },
  "cells": [
    {
      "cell_type": "code",
      "metadata": {
        "id": "i_SGHvjjpZ_b"
      },
      "source": [
        "H8_FTDS-005_JoshuaYunizar_LinearAlgebra1"
      ],
      "execution_count": null,
      "outputs": []
    },
    {
      "cell_type": "markdown",
      "metadata": {
        "id": "o1028RiMp0Fx"
      },
      "source": [
        "Library Used"
      ]
    },
    {
      "cell_type": "code",
      "metadata": {
        "id": "UIZwsAbtp1o3"
      },
      "source": [
        "import numpy as np"
      ],
      "execution_count": 2,
      "outputs": []
    },
    {
      "cell_type": "markdown",
      "metadata": {
        "id": "Ps5ouOMcp5aW"
      },
      "source": [
        "Soal 1 : Buatlah vektor di bawah ini dengan Python"
      ]
    },
    {
      "cell_type": "code",
      "metadata": {
        "colab": {
          "base_uri": "https://localhost:8080/"
        },
        "id": "2nup1eS2p67K",
        "outputId": "f0048c77-3173-4a0b-c99d-21a7dd7ce89e"
      },
      "source": [
        "D = [17,22,19]\n",
        "\n",
        "Dv = np.array(D)\n",
        "\n",
        "print(Dv)\n",
        "\n",
        "Dv"
      ],
      "execution_count": 6,
      "outputs": [
        {
          "output_type": "stream",
          "name": "stdout",
          "text": [
            "[17 22 19]\n"
          ]
        },
        {
          "output_type": "execute_result",
          "data": {
            "text/plain": [
              "array([17, 22, 19])"
            ]
          },
          "metadata": {},
          "execution_count": 6
        }
      ]
    },
    {
      "cell_type": "markdown",
      "metadata": {
        "id": "eLmMaXF9q2xt"
      },
      "source": [
        "Soal 2: Hitunglah: A+B | B-C | A dot C | AxB | norm A | Sudut antara vektor A dan B"
      ]
    },
    {
      "cell_type": "code",
      "metadata": {
        "colab": {
          "base_uri": "https://localhost:8080/"
        },
        "id": "l7WwG1ZTrw2v",
        "outputId": "a1496b4a-fd1e-46b9-d9d3-fa68677217b5"
      },
      "source": [
        "A = np.array([17,22,19])\n",
        "B = np.array([10,20,11])\n",
        "C = np.array([5,12,9])\n",
        "\n",
        "#A+B\n",
        "AB = A+B\n",
        "\n",
        "print(f'Nilai A+B = {AB} \\n')\n",
        "\n",
        "#B-C\n",
        "\n",
        "BC = B-C\n",
        "\n",
        "print(f'Nilai B-C = {BC} \\n')\n",
        "\n",
        "#A dot C\n",
        "\n",
        "AdotC = A.dot(C)\n",
        "\n",
        "print(f'Nilai A dot C = {AdotC} \\n')\n",
        "\n",
        "#AxB\n",
        "\n",
        "AxB = A*B\n",
        "\n",
        "print(f'Nilai A x B = {AxB} \\n')\n",
        "\n",
        "#NormA\n",
        "\n",
        "NormA = np.linalg.norm(A)\n",
        "\n",
        "print(f'Nilai Norm A = {NormA} \\n')\n",
        "\n",
        "#Sudut antara A dan B\n",
        "\n",
        "NormB = np.linalg.norm(B)\n",
        "AdotB = A@B\n",
        "\n",
        "cosine = AdotB/(NormA*NormB)\n",
        "\n",
        "theta = np.arccos(cosine)\n",
        "\n",
        "thetarad = np.rad2deg(theta)\n",
        "\n",
        "print(f'Nilai sudut antara Vektor A dan B adalah {thetarad} Derajat')"
      ],
      "execution_count": 15,
      "outputs": [
        {
          "output_type": "stream",
          "name": "stdout",
          "text": [
            "Nilai A+B = [27 42 30] \n",
            "\n",
            "Nilai B-C = [5 8 2] \n",
            "\n",
            "Nilai A dot C = 520 \n",
            "\n",
            "Nilai A x B = [170 440 209] \n",
            "\n",
            "Nilai Norm A = 33.67491648096547 \n",
            "\n",
            "Nilai sudut antara Vektor A dan B adalah 12.588900662180242 Derajat\n"
          ]
        }
      ]
    },
    {
      "cell_type": "markdown",
      "metadata": {
        "id": "LpLJ9RHiwy1q"
      },
      "source": [
        "Soal 3 : Buatlah Plot dari Vektor berikut ke bidang 2D"
      ]
    },
    {
      "cell_type": "code",
      "metadata": {
        "id": "pnmZ9lzzxcro"
      },
      "source": [
        "import matplotlib.pyplot as plt"
      ],
      "execution_count": 17,
      "outputs": []
    },
    {
      "cell_type": "code",
      "metadata": {
        "colab": {
          "base_uri": "https://localhost:8080/",
          "height": 269
        },
        "id": "c0-Usy-jw4xJ",
        "outputId": "4c09ee26-b669-448e-d735-7e97e19f93d9"
      },
      "source": [
        "#Array\n",
        "\n",
        "u = np.array([2,5])\n",
        "v = np.array([3,1])\n",
        "\n",
        "#Plot graph\n",
        "\n",
        "x_coords, y_coords = zip(u, v)\n",
        "plt.scatter(x_coords, y_coords, color=[\"r\",\"b\"])\n",
        "plt.axis([0, 9, 0, 6])\n",
        "plt.grid()\n",
        "plt.show()"
      ],
      "execution_count": 20,
      "outputs": [
        {
          "output_type": "display_data",
          "data": {
            "image/png": "[encoded data removed]",
            "text/plain": [
              "<Figure size 432x288 with 1 Axes>"
            ]
          },
          "metadata": {
            "needs_background": "light"
          }
        }
      ]
    }
  ]
}