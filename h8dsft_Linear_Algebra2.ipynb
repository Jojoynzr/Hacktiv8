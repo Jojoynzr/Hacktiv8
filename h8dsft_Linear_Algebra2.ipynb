{
  "nbformat": 4,
  "nbformat_minor": 0,
  "metadata": {
    "colab": {
      "name": "h8dsft_Linear_Algebra2.ipynb",
      "provenance": [],
      "collapsed_sections": []
    },
    "kernelspec": {
      "name": "python3",
      "display_name": "Python 3"
    },
    "language_info": {
      "name": "python"
    }
  },
  "cells": [
    {
      "cell_type": "markdown",
      "metadata": {
        "id": "oJ0ol4ClIkjq"
      },
      "source": [
        "#Library yang digunakan"
      ]
    },
    {
      "cell_type": "code",
      "metadata": {
        "id": "eBp6XLuIFXzy"
      },
      "source": [
        "import numpy as np"
      ],
      "execution_count": null,
      "outputs": []
    },
    {
      "cell_type": "markdown",
      "metadata": {
        "id": "wdbTlfO4IkAi"
      },
      "source": [
        "Soal 1: Buatlah Tensor di bawah ini dengan Python:"
      ]
    },
    {
      "cell_type": "code",
      "metadata": {
        "colab": {
          "base_uri": "https://localhost:8080/"
        },
        "id": "EHm5OYyKItox",
        "outputId": "1c05abe3-4347-4a8e-ca6d-804115d2a24e"
      },
      "source": [
        "Tensor = np.array([[[23, 50],[7, 12]],\n",
        "                  [[57, 67],[99, 43]],\n",
        "                  [[75, 21],[57, 12]],\n",
        "                  [[57, 12],[87, 26]]])\n",
        "\n",
        "Tensor"
      ],
      "execution_count": null,
      "outputs": [
        {
          "output_type": "execute_result",
          "data": {
            "text/plain": [
              "array([[[23, 50],\n",
              "        [ 7, 12]],\n",
              "\n",
              "       [[57, 67],\n",
              "        [99, 43]],\n",
              "\n",
              "       [[75, 21],\n",
              "        [57, 12]],\n",
              "\n",
              "       [[57, 12],\n",
              "        [87, 26]]])"
            ]
          },
          "metadata": {},
          "execution_count": 5
        }
      ]
    },
    {
      "cell_type": "code",
      "metadata": {
        "colab": {
          "base_uri": "https://localhost:8080/"
        },
        "id": "p45sOm8-aXpu",
        "outputId": "84cf1ff5-a596-4e0a-ec83-e3dc2499ae7c"
      },
      "source": [
        "Tensor.shape"
      ],
      "execution_count": null,
      "outputs": [
        {
          "output_type": "execute_result",
          "data": {
            "text/plain": [
              "(4, 2, 2)"
            ]
          },
          "metadata": {},
          "execution_count": 6
        }
      ]
    },
    {
      "cell_type": "markdown",
      "metadata": {
        "id": "5RTjTTKAcszR"
      },
      "source": [
        "Soal 2: Lakukan Perkalian Terhadap Matrix berikut:"
      ]
    },
    {
      "cell_type": "code",
      "metadata": {
        "colab": {
          "base_uri": "https://localhost:8080/"
        },
        "id": "SMcNrS4KdmBy",
        "outputId": "6614815e-d078-4d90-e568-1504acdb581a"
      },
      "source": [
        "A = np.array([[23,50,19],[7,12,109],[57,67,98]])\n",
        "\n",
        "B = np.array([17,22,19])\n",
        "\n",
        "print(A)\n",
        "\n",
        "print(B)"
      ],
      "execution_count": null,
      "outputs": [
        {
          "output_type": "stream",
          "name": "stdout",
          "text": [
            "[[ 23  50  19]\n",
            " [  7  12 109]\n",
            " [ 57  67  98]]\n",
            "[17 22 19]\n"
          ]
        }
      ]
    },
    {
      "cell_type": "code",
      "metadata": {
        "id": "DAhQw1pAeNVe",
        "colab": {
          "base_uri": "https://localhost:8080/"
        },
        "outputId": "4c490d2b-4a9c-4ba0-c271-b7dd7a1967ad"
      },
      "source": [
        "C = A*B\n",
        "\n",
        "print(C)"
      ],
      "execution_count": 8,
      "outputs": [
        {
          "output_type": "stream",
          "name": "stdout",
          "text": [
            "[[ 391 1100  361]\n",
            " [ 119  264 2071]\n",
            " [ 969 1474 1862]]\n"
          ]
        }
      ]
    },
    {
      "cell_type": "markdown",
      "metadata": {
        "id": "COyBW8eKfNrJ"
      },
      "source": [
        "Soal 3: Lakukan Transpose, Hitung Determinan dan Inverse terhadap Matrix di bawah ini:"
      ]
    },
    {
      "cell_type": "code",
      "metadata": {
        "colab": {
          "base_uri": "https://localhost:8080/"
        },
        "id": "4xHbMxjDfNXI",
        "outputId": "95c47592-7971-47ef-db60-5650501e21ae"
      },
      "source": [
        "D = np.array([[23, 50, 19],[7, 12, 109],[57, 67, 98]])\n",
        "\n",
        "print(D)"
      ],
      "execution_count": 9,
      "outputs": [
        {
          "output_type": "stream",
          "name": "stdout",
          "text": [
            "[[ 23  50  19]\n",
            " [  7  12 109]\n",
            " [ 57  67  98]]\n"
          ]
        }
      ]
    },
    {
      "cell_type": "code",
      "metadata": {
        "colab": {
          "base_uri": "https://localhost:8080/"
        },
        "id": "xZ_5GoJZfh7_",
        "outputId": "e75f5f24-fa12-4bb3-a396-3b591788c5a6"
      },
      "source": [
        "#Transpose\n",
        "\n",
        "DTrans = D.T\n",
        "\n",
        "D.T"
      ],
      "execution_count": 10,
      "outputs": [
        {
          "output_type": "execute_result",
          "data": {
            "text/plain": [
              "array([[ 23,   7,  57],\n",
              "       [ 50,  12,  67],\n",
              "       [ 19, 109,  98]])"
            ]
          },
          "metadata": {},
          "execution_count": 10
        }
      ]
    },
    {
      "cell_type": "code",
      "metadata": {
        "colab": {
          "base_uri": "https://localhost:8080/"
        },
        "id": "pmESl3sV1Bep",
        "outputId": "09e76ab7-74ad-40c1-e0c1-ad5db839d836"
      },
      "source": [
        "#Determinant\n",
        "\n",
        "DDet = np.linalg.det(D)\n",
        "\n",
        "print(DDet)"
      ],
      "execution_count": 11,
      "outputs": [
        {
          "output_type": "stream",
          "name": "stdout",
          "text": [
            "131344.0000000002\n"
          ]
        }
      ]
    },
    {
      "cell_type": "code",
      "metadata": {
        "colab": {
          "base_uri": "https://localhost:8080/"
        },
        "id": "jFWGCZuW3Ynl",
        "outputId": "0bd2f488-84ee-4bba-e1e1-a69a533476d0"
      },
      "source": [
        "#Invers\n",
        "\n",
        "DInv = np.linalg.inv(D)\n",
        "\n",
        "print(DInv)"
      ],
      "execution_count": 12,
      "outputs": [
        {
          "output_type": "stream",
          "name": "stdout",
          "text": [
            "[[-0.0466485  -0.02761451  0.03975819]\n",
            " [ 0.04208034  0.00891552 -0.01807467]\n",
            " [-0.00163692  0.0099662  -0.00056341]]\n"
          ]
        }
      ]
    }
  ]
}